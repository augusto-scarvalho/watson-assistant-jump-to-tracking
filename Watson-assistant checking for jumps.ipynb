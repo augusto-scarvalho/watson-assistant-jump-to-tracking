{
 "cells": [
  {
   "cell_type": "code",
   "execution_count": 1,
   "id": "fddbea31",
   "metadata": {},
   "outputs": [],
   "source": [
    "import json"
   ]
  },
  {
   "cell_type": "code",
   "execution_count": 2,
   "id": "1e0d9a67",
   "metadata": {},
   "outputs": [],
   "source": [
    "nodes_dict = {}\n",
    "\n",
    "# reading the corpus data\n",
    "with open(\"data/skill-corpus.json\", encoding='utf-8') as json_file:\n",
    "    data_json = json.load(json_file)"
   ]
  },
  {
   "cell_type": "code",
   "execution_count": 3,
   "id": "bb6b58a6",
   "metadata": {},
   "outputs": [],
   "source": [
    "# for each node in the corpus\n",
    "for node in data_json['dialog_nodes']:\n",
    "    node_name = node['dialog_node']\n",
    "    # add node to dict if it's not already there\n",
    "    if node_name not in nodes_dict:\n",
    "        nodes_dict.update({node_name: []})\n",
    "    try:\n",
    "        next_step = node['next_step']\n",
    "        # if the current node jumps to another node\n",
    "        if next_step and next_step['behavior'] == 'jump_to':\n",
    "            target_node = next_step['dialog_node']\n",
    "            # add jump target to dict if it's not already there\n",
    "            if target_node not in nodes_dict:\n",
    "                nodes_dict.update({target_node: []})\n",
    "            # updates the dict appending the current node into the target node list\n",
    "            nodes_dict[target_node].append(node_name)\n",
    "    except:\n",
    "        pass"
   ]
  },
  {
   "cell_type": "code",
   "execution_count": 4,
   "id": "8068b8a3",
   "metadata": {},
   "outputs": [
    {
     "data": {
      "text/plain": [
       "['node_00249646-b425-43ec-9d1b-febc2bbab6ad',\n",
       " 'node_066c7932-d7c9-49ff-8acd-b4a7f63fd6b3',\n",
       " 'node_0a56575f-bb2f-4c7d-9dd4-bff0422a7c9b',\n",
       " 'node_101e70aa-1805-4c5b-a95e-d0bba7c36aa4',\n",
       " 'node_22967e28-9966-4ba6-ba88-67585023c3af',\n",
       " 'node_2792762b-2dba-4ad0-9bcd-3a8d4506fee6',\n",
       " 'node_302687f3-9c8a-4788-9966-b729bfef28e8',\n",
       " 'node_542ca214-87e5-45e7-b42b-c4c34e040d24',\n",
       " 'node_5e5505c7-68e3-44f1-86c1-6ad32cfac6e0',\n",
       " 'node_7159364a-9610-4d9d-9c4e-2c48810be33d',\n",
       " 'node_779ba6e6-eb98-4055-9bd6-15b055c26d69',\n",
       " 'node_82db63fb-761a-40ca-abf3-7fb5a98be447',\n",
       " 'node_88334c55-5c98-43e4-942a-a31b98ffce24',\n",
       " 'node_89159e3c-63ed-40cf-ae7a-7f4caef2d6dd',\n",
       " 'node_9305bb3a-0053-43fd-9c01-fe603bbc2adc',\n",
       " 'node_97ee4d8d-95af-4a31-b990-96fb462f9d80',\n",
       " 'node_ac4e6685-91ca-4d39-804d-12d596c5c627',\n",
       " 'node_b454c913-e1de-4618-a49c-fc0dd573209d',\n",
       " 'node_bdab072b-c47c-4671-b114-c761c22a27a6',\n",
       " 'node_c1eba364-a922-48ef-80bf-629ba66a2e13',\n",
       " 'node_dc6ff022-d351-490b-88e8-ea77a5ac4a08',\n",
       " 'node_dd4c5edd-5fc7-4995-9ea4-5b4ccabde135',\n",
       " 'node_df7f99da-6cca-4631-b880-142921de68a7',\n",
       " 'node_e9b8cefb-ef14-4495-af11-84b0195f9a81',\n",
       " 'node_eea72377-c524-4156-8f97-f6bdf4888856',\n",
       " 'node_fe89fead-781b-4da4-8f7e-c69843e0ebda']"
      ]
     },
     "execution_count": 4,
     "metadata": {},
     "output_type": "execute_result"
    }
   ],
   "source": [
    "# listing all the nodes jumping into the 6th node\n",
    "nodes_dict[list(nodes_dict.keys())[6]]"
   ]
  },
  {
   "cell_type": "code",
   "execution_count": 5,
   "id": "d50f605e",
   "metadata": {},
   "outputs": [
    {
     "data": {
      "text/plain": [
       "['node_00249646-b425-43ec-9d1b-febc2bbab6ad',\n",
       " 'node_066c7932-d7c9-49ff-8acd-b4a7f63fd6b3',\n",
       " 'node_0a56575f-bb2f-4c7d-9dd4-bff0422a7c9b',\n",
       " 'node_101e70aa-1805-4c5b-a95e-d0bba7c36aa4',\n",
       " 'node_22967e28-9966-4ba6-ba88-67585023c3af',\n",
       " 'node_2792762b-2dba-4ad0-9bcd-3a8d4506fee6',\n",
       " 'node_302687f3-9c8a-4788-9966-b729bfef28e8',\n",
       " 'node_542ca214-87e5-45e7-b42b-c4c34e040d24',\n",
       " 'node_5e5505c7-68e3-44f1-86c1-6ad32cfac6e0',\n",
       " 'node_7159364a-9610-4d9d-9c4e-2c48810be33d',\n",
       " 'node_779ba6e6-eb98-4055-9bd6-15b055c26d69',\n",
       " 'node_82db63fb-761a-40ca-abf3-7fb5a98be447',\n",
       " 'node_88334c55-5c98-43e4-942a-a31b98ffce24',\n",
       " 'node_89159e3c-63ed-40cf-ae7a-7f4caef2d6dd',\n",
       " 'node_9305bb3a-0053-43fd-9c01-fe603bbc2adc',\n",
       " 'node_97ee4d8d-95af-4a31-b990-96fb462f9d80',\n",
       " 'node_ac4e6685-91ca-4d39-804d-12d596c5c627',\n",
       " 'node_b454c913-e1de-4618-a49c-fc0dd573209d',\n",
       " 'node_bdab072b-c47c-4671-b114-c761c22a27a6',\n",
       " 'node_c1eba364-a922-48ef-80bf-629ba66a2e13',\n",
       " 'node_dc6ff022-d351-490b-88e8-ea77a5ac4a08',\n",
       " 'node_dd4c5edd-5fc7-4995-9ea4-5b4ccabde135',\n",
       " 'node_df7f99da-6cca-4631-b880-142921de68a7',\n",
       " 'node_e9b8cefb-ef14-4495-af11-84b0195f9a81',\n",
       " 'node_eea72377-c524-4156-8f97-f6bdf4888856',\n",
       " 'node_fe89fead-781b-4da4-8f7e-c69843e0ebda']"
      ]
     },
     "execution_count": 5,
     "metadata": {},
     "output_type": "execute_result"
    }
   ],
   "source": [
    "# listing all the nodes jumping into the node node_d7fe6893-639c-11ea-bff3-005056924583\n",
    "nodes_dict['node_d7fe6893-639c-11ea-bff3-005056924583']"
   ]
  },
  {
   "cell_type": "code",
   "execution_count": null,
   "id": "c50c4e85",
   "metadata": {},
   "outputs": [],
   "source": []
  }
 ],
 "metadata": {
  "kernelspec": {
   "display_name": "Python 3 (ipykernel)",
   "language": "python",
   "name": "python3"
  },
  "language_info": {
   "codemirror_mode": {
    "name": "ipython",
    "version": 3
   },
   "file_extension": ".py",
   "mimetype": "text/x-python",
   "name": "python",
   "nbconvert_exporter": "python",
   "pygments_lexer": "ipython3",
   "version": "3.9.2"
  }
 },
 "nbformat": 4,
 "nbformat_minor": 5
}
